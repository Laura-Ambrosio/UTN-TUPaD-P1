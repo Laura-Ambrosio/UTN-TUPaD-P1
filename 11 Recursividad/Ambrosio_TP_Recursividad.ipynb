{
 "cells": [
  {
   "cell_type": "markdown",
   "id": "e450d16a",
   "metadata": {},
   "source": [
    "1. Crea una función recursiva que calcule el factorial de un número. \n",
    "\n",
    "Luego, utiliza esa\n",
    "función para calcular y mostrar en pantalla el factorial de todos los números enteros\n",
    "entre 1 y el número que indique el usuario"
   ]
  },
  {
   "cell_type": "code",
   "execution_count": 1,
   "id": "e0cce52f",
   "metadata": {},
   "outputs": [
    {
     "name": "stdout",
     "output_type": "stream",
     "text": [
      "Se mostrará el factorial del numero 1 hasta el número ENTERO que ingrese a continuación: \n",
      "El factorial de 1 es 1\n",
      "El factorial de 2 es 2\n",
      "El factorial de 3 es 6\n",
      "El factorial de 4 es 24\n"
     ]
    }
   ],
   "source": [
    "#Funciones\n",
    "\n",
    "def leer_entero_validado(mensaje, min = float(\"-Inf\"), max = float(\"Inf\")):\n",
    "    n = int(input(f\"{mensaje}: \"))\n",
    "    while n < min or n > max:\n",
    "        n = int(input(f\"ERROR. {mensaje}: \"))\n",
    "    return n\n",
    "\n",
    "def calcular_factorial(x):\n",
    "    if x==0:\n",
    "        return 1\n",
    "    else:\n",
    "        return x * calcular_factorial(x-1)\n",
    "    \n",
    "def calcular_factorial_rango(n):\n",
    "    for i in range(1,n+1):\n",
    "        imprimir=calcular_factorial(i)\n",
    "        print(f\"El factorial de {i} es {imprimir}\")\n",
    "    return\n",
    "\n",
    "\n",
    "#Programa principal\n",
    "\n",
    "print(\"Se mostrará el factorial del numero 1 hasta el número ENTERO que ingrese a continuación: \")\n",
    "\n",
    "calcular_factorial_rango(leer_entero_validado(\"Ingrese un número entero: \", 0))\n"
   ]
  },
  {
   "cell_type": "markdown",
   "id": "e11e1309",
   "metadata": {},
   "source": [
    "2. Crea una función recursiva que calcule el valor de la serie de Fibonacci en la posición\n",
    "indicada. Posteriormente, muestra la serie completa hasta la posición que el usuario\n",
    "especifique"
   ]
  },
  {
   "cell_type": "code",
   "execution_count": 22,
   "id": "5dc242a8",
   "metadata": {},
   "outputs": [
    {
     "name": "stdout",
     "output_type": "stream",
     "text": [
      "Se mostrarán los valores de la secuencia de fibonacci hasta la posicion seleccionada: \n",
      "0 1 1 2 3 5 8 13 21 34 "
     ]
    }
   ],
   "source": [
    "#Funciones\n",
    "\n",
    "def leer_entero_validado(mensaje, min = float(\"-Inf\"), max = float(\"Inf\")):\n",
    "    n = int(input(f\"{mensaje}: \"))\n",
    "    while n < min or n > max:\n",
    "        n = int(input(f\"ERROR. {mensaje}: \"))\n",
    "    return n\n",
    "\n",
    "def fibonacci(posicion):\n",
    "    if posicion==0:\n",
    "        return 0\n",
    "    elif posicion==1:\n",
    "        return 1\n",
    "    else:\n",
    "        return fibonacci(posicion-1)+fibonacci(posicion-2)\n",
    "    \n",
    "def calcular_fibonacci_rango(posicion):\n",
    "    for i in range(0,posicion):\n",
    "        imprimir=fibonacci(i)\n",
    "        print(imprimir, end = \" \")\n",
    "    return\n",
    "\n",
    "#Programa principal\n",
    "print(\"Se mostrarán los valores de la secuencia de fibonacci hasta la posicion seleccionada: \")\n",
    "calcular_fibonacci_rango(leer_entero_validado(\"Seleccione una posicion (debe ser un número entero): \", 0))\n"
   ]
  },
  {
   "cell_type": "markdown",
   "id": "17d67fa4",
   "metadata": {},
   "source": [
    "3. Crea una función recursiva que calcule la potencia de un número base elevado a un\n",
    "exponente, utilizando la fórmula 𝑛^𝑚 = 𝑛 ∗ 𝑛^(𝑚−1). Prueba esta función en un\n",
    "algoritmo general."
   ]
  },
  {
   "cell_type": "code",
   "execution_count": 22,
   "id": "122bc661",
   "metadata": {},
   "outputs": [
    {
     "name": "stdout",
     "output_type": "stream",
     "text": [
      "4\n"
     ]
    }
   ],
   "source": [
    "def calcular_potencia(n, m):\n",
    "    if m == 0:\n",
    "        return 1\n",
    "    elif m < 0:\n",
    "        return (1/n)* calcular_potencia(n, 𝑚-1)\n",
    "    else:\n",
    "        return n * calcular_potencia(n, 𝑚-1)\n",
    "    \n",
    "\n",
    "b=int(input(\"Ingrese un número entero para la base: \"))\n",
    "e=int(input(\"Ingrese un número entero para el exponente: \"))\n",
    "\n",
    "print(calcular_potencia(b, e))"
   ]
  },
  {
   "cell_type": "markdown",
   "id": "6646f582",
   "metadata": {},
   "source": [
    "4. Crear una función recursiva en Python que reciba un número entero positivo en base\n",
    "decimal y devuelva su representación en binario como una cadena de texto.\n",
    "\n",
    "Cuando representamos un número en binario, lo expresamos usando solamente ceros (0) y\n",
    "unos (1), en base 2. Para convertir un número decimal a binario, se puede seguir este\n",
    "procedimiento:\n",
    "\n",
    "1. Dividir el número por 2.\n",
    "2. Guardar el resto (0 o 1).\n",
    "3. Repetir el proceso con el cociente hasta que llegue a 0.\n",
    "4. Los restos obtenidos, leídos de abajo hacia arriba, forman el número binario\n",
    "\n",
    "Convertir el número 10 a binario:\n",
    "\n",
    "10 ÷ 2 = 5 resto: 0\n",
    "5 ÷ 2 = 2 resto: 1\n",
    "2 ÷ 2 = 1 resto: 0\n",
    "1 ÷ 2 = 0 resto: 1\n",
    "\n",
    "Leyendo los restos de abajo hacia arriba: 1 0 1 0 → El resultado binario es \"1010\"\n"
   ]
  },
  {
   "cell_type": "code",
   "execution_count": null,
   "id": "2ca470dd",
   "metadata": {},
   "outputs": [],
   "source": [
    "def decimal_a_binario(n): \n",
    "    if n==1:\n",
    "        return 1\n",
    "    else:\n",
    "        return str(decimal_a_binario(n//2))+ str(n%2)\n",
    "\n",
    "n=int(input(\"Ingrese un numero entero positivo: \"))\n",
    "print(f\"El numero {n} equivale al valor decimal {decimal_a_binario(n)}, \\n\")"
   ]
  },
  {
   "cell_type": "markdown",
   "id": "c5bec483",
   "metadata": {},
   "source": [
    "5. Implementá una función recursiva llamada es_palindromo(palabra) que reciba una\n",
    "cadena de texto sin espacios ni tildes, y devuelva True si es un palíndromo o False si no\n",
    "lo es.\n",
    "Requisitos:\n",
    "La solución debe ser recursiva.\n",
    "No se debe usar [::-1] ni la función reversed()."
   ]
  },
  {
   "cell_type": "code",
   "execution_count": null,
   "id": "232dc957",
   "metadata": {},
   "outputs": [],
   "source": [
    "def invertir(p):\n",
    "    if len(p)==1:\n",
    "        return p[0] \n",
    "    else:\n",
    "        return p[-1] + invertir(p[:-1])\n",
    "    \n",
    "def es_palindromo(p):\n",
    "    if invertir(p) == p:\n",
    "        return print(f\"{p} es palindromo\")\n",
    "    else:\n",
    "        return print(f\"{p}No es palindromo\")"
   ]
  },
  {
   "cell_type": "markdown",
   "id": "ecd870b6",
   "metadata": {},
   "source": [
    "6. Escribí una función recursiva en Python llamada suma_digitos(n) que reciba un\n",
    "número entero positivo y devuelva la suma de todos sus dígitos.\n",
    "Restricciones:\n",
    "\n",
    "No se puede convertir el número a string.\n",
    "Usá operaciones matemáticas (%, //) y recursión.\n",
    "\n",
    "Ejemplos:\n",
    "- suma_digitos(1234) → 10 (1 + 2 + 3 + 4)\n",
    "- suma_digitos(9) → 9\n",
    "- suma_digitos(305) → 8 (3 + 0 + 5)"
   ]
  },
  {
   "cell_type": "code",
   "execution_count": null,
   "id": "fc4b0c8b",
   "metadata": {},
   "outputs": [],
   "source": [
    "def sumar_digitos(n):\n",
    "    if n==0:\n",
    "        return 0\n",
    "    else:\n",
    "        return n%10 + sumar_digitos(n//10) \n",
    "    \n",
    "    #stack 135%10(5) + sumar_digitos(13) = 4 > 4 + 5 = 9\n",
    "    #stack 13%10(3) + sumar_digitos(1) = 1 > 1 + 3 = 4\n",
    "    #stack 1%10(1) + sumar_digitos(0) = 0 > 0 + 1 = 1\n",
    "    \n",
    "print(\"Sumar digitos:\", sumar_digitos(135),\"\\n\")"
   ]
  },
  {
   "cell_type": "markdown",
   "id": "9b913869",
   "metadata": {},
   "source": [
    "7. Un niño está construyendo una pirámide con bloques. En el nivel más bajo coloca n\n",
    "bloques, en el siguiente nivel uno menos (n - 1), y así sucesivamente hasta llegar al\n",
    "último nivel con un solo bloque.\n",
    "Escribí una función recursiva contar_bloques(n) que reciba el número de bloques en el\n",
    "nivel más bajo y devuelva el total de bloques que necesita para construir toda la\n",
    "pirámide.\n",
    "\n",
    "Ejemplos:\n",
    "- contar_bloques(1) → 1 (1)\n",
    "- contar_bloques(2) → 3 (2 + 1)\n",
    "- contar_bloques(4) → 10 (4 + 3 + 2 + 1)"
   ]
  },
  {
   "cell_type": "code",
   "execution_count": null,
   "id": "f4c7aabc",
   "metadata": {},
   "outputs": [],
   "source": [
    "def contar_bloques(n):\n",
    "    if n == 0:\n",
    "        return 0\n",
    "    else:\n",
    "        return n + contar_bloques(n-1)\n",
    "\n",
    "n=int(input(\"Ingrese el numero de bloques que tendra la base: \"))\n",
    "print(\"Se necesitan\",contar_bloques(n), \"bloques\")"
   ]
  },
  {
   "cell_type": "markdown",
   "id": "923c7994",
   "metadata": {},
   "source": [
    "8. Escribí una función recursiva llamada contar_digito(numero, digito) que reciba un\n",
    "número entero positivo (numero) y un dígito (entre 0 y 9), y devuelva cuántas veces\n",
    "aparece ese dígito dentro del número.\n",
    "\n",
    "Ejemplos:\n",
    "- contar_digito(12233421, 2) → 3\n",
    "- contar_digito(5555, 5) → 4\n",
    "- contar_digito(123456, 7) → 0"
   ]
  },
  {
   "cell_type": "code",
   "execution_count": 3,
   "id": "2d6a39cb",
   "metadata": {},
   "outputs": [
    {
     "name": "stdout",
     "output_type": "stream",
     "text": [
      "El número 1312312 contiene 0 veces el número 9\n"
     ]
    }
   ],
   "source": [
    "def contar_x_digito(n, digito): #digito=2 #n=12342\n",
    "    if not n:\n",
    "        return 0\n",
    "    else:\n",
    "        if n[0] == digito:\n",
    "            return 1 + contar_x_digito(n[1:], digito)\n",
    "        else:\n",
    "            return 0 + contar_x_digito(n[1:], digito)\n",
    "\n",
    "n=input(\"Ingrese un número entero positivo: \")\n",
    "digito=input(\"Ingrese el dígito que desea contar, del 0 al 9: \")\n",
    "\n",
    "print(f\"El número {n} contiene {contar_x_digito(n, digito)} veces el número {digito}\")"
   ]
  }
 ],
 "metadata": {
  "kernelspec": {
   "display_name": "Python 3",
   "language": "python",
   "name": "python3"
  },
  "language_info": {
   "codemirror_mode": {
    "name": "ipython",
    "version": 3
   },
   "file_extension": ".py",
   "mimetype": "text/x-python",
   "name": "python",
   "nbconvert_exporter": "python",
   "pygments_lexer": "ipython3",
   "version": "3.13.3"
  }
 },
 "nbformat": 4,
 "nbformat_minor": 5
}
