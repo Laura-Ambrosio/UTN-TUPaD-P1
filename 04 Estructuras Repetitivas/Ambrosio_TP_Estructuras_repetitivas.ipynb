{
 "cells": [
  {
   "cell_type": "markdown",
   "id": "df424f7b",
   "metadata": {},
   "source": [
    "#**Práctico 4: Estructuras repetitivas**\n",
    "\n",
    "Objetivo:\n",
    "\n",
    "Implementar ciclos para resolver problemas que requieran repetición de acciones."
   ]
  },
  {
   "cell_type": "markdown",
   "id": "3e2e9d59",
   "metadata": {},
   "source": [
    "1) Crea un programa que imprima en pantalla todos los números enteros desde 0 hasta 10\n",
    "(incluyendo ambos extremos), en orden creciente, mostrando un número por línea"
   ]
  },
  {
   "cell_type": "code",
   "execution_count": null,
   "id": "e5c6a449",
   "metadata": {},
   "outputs": [],
   "source": [
    "for i in range(1,11):\n",
    "    print (i)"
   ]
  },
  {
   "cell_type": "markdown",
   "id": "eb497ad1",
   "metadata": {},
   "source": [
    "2) Desarrolla un programa que solicite al usuario un número entero y determine la cantidad de\n",
    "dígitos que contiene."
   ]
  },
  {
   "cell_type": "code",
   "execution_count": 33,
   "id": "0f98e623",
   "metadata": {},
   "outputs": [
    {
     "name": "stdout",
     "output_type": "stream",
     "text": [
      "El número tiene 9 digitos\n"
     ]
    }
   ],
   "source": [
    "#Define contador\n",
    "#Necesito 1 extra ya que al llegar a la unidad no se va a dividir por 10, lo defino en la variable\n",
    "cont=1\n",
    "\n",
    "#Solicita número entero\n",
    "num=int(input(\"Ingrese un número entero: \"))\n",
    "num=abs(num)\n",
    "\n",
    "#Contar dígitos\n",
    "\n",
    "if num < 10:\n",
    "    print(\"El número tiene 1 digito\")\n",
    "else:   \n",
    "    while num >= 10:\n",
    "        num=num/10\n",
    "        cont += 1 \n",
    "\n",
    "print(f\"El número tiene {cont} digitos\")\n"
   ]
  },
  {
   "cell_type": "markdown",
   "id": "834179d0",
   "metadata": {},
   "source": [
    "3) Escribe un programa que sume todos los números enteros comprendidos entre dos valores\n",
    "dados por el usuario, excluyendo esos dos valores."
   ]
  },
  {
   "cell_type": "code",
   "execution_count": null,
   "id": "9b0863ff",
   "metadata": {},
   "outputs": [],
   "source": [
    "#Definir variables\n",
    "suma=0\n",
    "\n",
    "#Pedir al usuario los dos números que formaran el rango\n",
    "num1=int(input(\"Ingrese un número entero como valor inicial: \"))\n",
    "num2=int(input(\"Ingrese un número entero como valor final: \"))\n",
    "\n",
    "#Bucle for que imprime la suma del rango\n",
    "for i in range(num1+1, num2):\n",
    "    suma+=i\n",
    "print(f\"La suma de los números comprendidos entre el rango ({num1}:{num2} es {suma})\")\n"
   ]
  },
  {
   "cell_type": "markdown",
   "id": "ccbcc29f",
   "metadata": {},
   "source": [
    "4) Elabora un programa que permita al usuario ingresar números enteros y los sume en\n",
    "secuencia. El programa debe detenerse y mostrar el total acumulado cuando el usuario ingrese\n",
    "un 0."
   ]
  },
  {
   "cell_type": "code",
   "execution_count": null,
   "id": "43805669",
   "metadata": {},
   "outputs": [
    {
     "name": "stdout",
     "output_type": "stream",
     "text": [
      "La suma de los números ingresados es: 10\n"
     ]
    }
   ],
   "source": [
    "#Definir variables\n",
    "suma=0\n",
    "#Pedir al usuario los dos números que formaran el rango\n",
    "#Manejar errores\n",
    "num=int(input(\"Ingrese un número entero o \\\"0\\\" para detener el programa:\" ))\n",
    "\n",
    "#Suma los numeros si no se ingresa 0\n",
    "while not num == 0:\n",
    "    suma+=num\n",
    "    num=int(input(\"Ingrese un número entero entero o \\\"0\\\" para detener el programa:\" ))\n",
    "\n",
    "print(f\"La suma de los números ingresados es: {suma}\")"
   ]
  },
  {
   "cell_type": "markdown",
   "id": "6452e3ac",
   "metadata": {},
   "source": [
    "4) Con validacion (manejo de errores)"
   ]
  },
  {
   "cell_type": "code",
   "execution_count": null,
   "id": "d2a0280b",
   "metadata": {},
   "outputs": [],
   "source": [
    "#Definir variables\n",
    "suma=0\n",
    "#Pedir al usuario los dos números que formaran el rango\n",
    "#Manejar errores\n",
    "while True:\n",
    "    try:\n",
    "        num=int(input(\"Ingrese un número entero o \\\"0\\\" para detener el programa:\" ))\n",
    "    except:\n",
    "        print(\"El valor ingresado no es un NUMERO ENTERO, intente de nuevo: \")\n",
    "        continue\n",
    "    if num !=0:\n",
    "        suma+=num\n",
    "    else:\n",
    "        break\n",
    "\n",
    "print(f\"La suma de los números ingresados es: {suma}\")"
   ]
  },
  {
   "cell_type": "markdown",
   "id": "df28773c",
   "metadata": {},
   "source": [
    "5) Crea un juego en el que el usuario deba adivinar un número aleatorio entre 0 y 9. Al final, el\n",
    "programa debe mostrar cuántos intentos fueron necesarios para acertar el número."
   ]
  },
  {
   "cell_type": "code",
   "execution_count": null,
   "id": "609852a3",
   "metadata": {},
   "outputs": [],
   "source": [
    "import random\n",
    "#Definir variables\n",
    "numero_random = random.randint(0, 9)\n",
    "cont=0\n",
    "#Pedir al usuario un número\n",
    "numero_usuario=int(input(\"Intenta adivinar que número elegí! Ingresa un número del 0 al 9: \"))\n",
    "\n",
    "#Validar que el usuario ingrese un numero entre 0 y 9\n",
    "while not 0 >= numero_usuario <=9:\n",
    "    numero_usuario=int(input(\"Ingresa un número del 0 al 9: \"))\n",
    "\n",
    "#Suma el número de intentos del usuario \n",
    "while numero_usuario != numero_random:\n",
    "    cont+=1\n",
    "    numero_usuario=int(input(\"Nop! Ingresa otro número: \"))\n",
    "\n",
    "print(\"Lo adivinaste! el número era\",numero_random)\n",
    "print(\"Solo te llevó\",cont,\"intentos\")"
   ]
  },
  {
   "cell_type": "markdown",
   "id": "a3ad3e41",
   "metadata": {},
   "source": [
    "6) Desarrolla un programa que imprima en pantalla todos los números pares comprendidos\n",
    "entre 0 y 100, en orden decreciente."
   ]
  },
  {
   "cell_type": "code",
   "execution_count": 7,
   "id": "3395c1f5",
   "metadata": {},
   "outputs": [
    {
     "name": "stdout",
     "output_type": "stream",
     "text": [
      "100 98 96 94 92 90 88 86 84 82 80 78 76 74 72 70 68 66 64 62 60 58 56 54 52 50 48 46 44 42 40 38 36 34 32 30 28 26 24 22 20 18 16 14 12 10 8 6 4 2 0 "
     ]
    }
   ],
   "source": [
    "for i in range(100,-1,-1):\n",
    "    if i%2==0:\n",
    "        print(i, end=\" \")\n",
    "        "
   ]
  },
  {
   "cell_type": "markdown",
   "id": "e8b23caa",
   "metadata": {},
   "source": [
    "7) Crea un programa que calcule la suma de todos los números comprendidos entre 0 y un\n",
    "número entero positivo indicado por el usuario."
   ]
  },
  {
   "cell_type": "code",
   "execution_count": 32,
   "id": "b9ae567a",
   "metadata": {},
   "outputs": [
    {
     "name": "stdout",
     "output_type": "stream",
     "text": [
      "La suma de los números en el rango (0,4) es 10\n"
     ]
    }
   ],
   "source": [
    "#Definir variable (Funciona)\n",
    "suma=0\n",
    "\n",
    "while True:\n",
    "    try:\n",
    "        #Pedir al usuario un número entero y validar \n",
    "        num=int(input(\"Ingrese un número entero positivo: \"))\n",
    "\n",
    "        while num < 0:\n",
    "            num=int(input(\"ERROR. Ingrese un número entero POSITIVO: \"))\n",
    "\n",
    "        for i in range(0,num+1):\n",
    "            suma+=i\n",
    "        break\n",
    "    except ValueError:\n",
    "        print(\"ERROR. El valor ingresado no es un entero positivo\")\n",
    "        continue\n",
    "        #Si el valor de num es correcto ejecuta el bucle\n",
    "\n",
    "print(f\"La suma de los números en el rango (0,{num}) es {suma}\")\n"
   ]
  },
  {
   "cell_type": "markdown",
   "id": "f2211289",
   "metadata": {},
   "source": [
    "8) Escribe un programa que permita al usuario ingresar 100 números enteros. Luego, el\n",
    "programa debe indicar cuántos de estos números son pares, cuántos son impares, cuántos son\n",
    "negativos y cuántos son positivos. (Nota: para probar el programa puedes usar una cantidad\n",
    "menor, pero debe estar preparado para procesar 100 números con un solo cambio)."
   ]
  },
  {
   "cell_type": "code",
   "execution_count": null,
   "id": "d8f0d616",
   "metadata": {},
   "outputs": [],
   "source": [
    "#Definir variable\n",
    "positivo=0\n",
    "negativo=0\n",
    "par=0\n",
    "impar=0\n",
    "\n",
    "#Bucle for: las veces que va a pedir un número\n",
    "for i in range(1, 101):\n",
    "    num=int(input(f\"Ingrese un número, n°{i}: \"))\n",
    "    #Clasificar los números\n",
    "    if num > 0:\n",
    "        positivo+=1\n",
    "    else:\n",
    "        negativo+=1\n",
    "\n",
    "    if num%2 == 0:\n",
    "        par+=1\n",
    "    else:\n",
    "        impar+=1\n",
    "\n",
    "#Imprimir mensaje\n",
    "print(f\"\"\"\n",
    "    Se introdujeron {positivo} números positivos\n",
    "    Se introdujeron {negativo} números negativos\n",
    "    Se introdujeron {par} números pares\n",
    "    Se introdujeron {impar} números impares\n",
    "    \"\"\"\n",
    "    )"
   ]
  },
  {
   "cell_type": "code",
   "execution_count": null,
   "id": "6e67b47e",
   "metadata": {},
   "outputs": [],
   "source": [
    "#Manejo de errores para strings\n",
    "\n"
   ]
  },
  {
   "cell_type": "markdown",
   "id": "8b507613",
   "metadata": {},
   "source": [
    "9) Elabora un programa que permita al usuario ingresar 100 números enteros y luego calcule la\n",
    "media de esos valores. (Nota: puedes probar el programa con una cantidad menor, pero debe\n",
    "poder procesar 100 números cambiando solo un valor)."
   ]
  },
  {
   "cell_type": "code",
   "execution_count": null,
   "id": "59477296",
   "metadata": {},
   "outputs": [],
   "source": [
    "#Definir variable\n",
    "suma=0\n",
    "\n",
    "#Pide 100 números y los suma\n",
    "for i in range(1, 101):\n",
    "    #Convierte los floats en enteros\n",
    "    num=(int(float(input(f\"Ingrese un número, n°{i}: \"))))\n",
    "    suma+=int(num)\n",
    "\n",
    "#Imprimir mensaje\n",
    "print(f\"El promedio de los números ingresados es: {suma/i}\")\n",
    "print(i)"
   ]
  },
  {
   "cell_type": "code",
   "execution_count": null,
   "id": "941bb33c",
   "metadata": {},
   "outputs": [],
   "source": [
    "#Manejo de errores para strings"
   ]
  },
  {
   "cell_type": "markdown",
   "id": "562b75c7",
   "metadata": {},
   "source": [
    "10) Escribe un programa que invierta el orden de los dígitos de un número ingresado por el\n",
    "usuario. Ejemplo: si el usuario ingresa 547, el programa debe mostrar 745."
   ]
  },
  {
   "cell_type": "code",
   "execution_count": 57,
   "id": "042c4816",
   "metadata": {},
   "outputs": [
    {
     "name": "stdout",
     "output_type": "stream",
     "text": [
      "123456789"
     ]
    }
   ],
   "source": [
    "#Le pido un número pero lo guardo como string\n",
    "num=input(\"Ingrese un número: \")\n",
    "position=0\n",
    "\n",
    "#Al ser una string debería pasar por cada número\n",
    "for i in num:\n",
    "    position-=1\n",
    "    print(num[position], end=\"\")\n"
   ]
  }
 ],
 "metadata": {
  "kernelspec": {
   "display_name": "Python 3",
   "language": "python",
   "name": "python3"
  },
  "language_info": {
   "codemirror_mode": {
    "name": "ipython",
    "version": 3
   },
   "file_extension": ".py",
   "mimetype": "text/x-python",
   "name": "python",
   "nbconvert_exporter": "python",
   "pygments_lexer": "ipython3",
   "version": "3.13.3"
  }
 },
 "nbformat": 4,
 "nbformat_minor": 5
}
