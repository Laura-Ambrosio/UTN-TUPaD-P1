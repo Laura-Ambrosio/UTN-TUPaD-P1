{
 "cells": [
  {
   "cell_type": "markdown",
   "id": "6c59effa",
   "metadata": {},
   "source": [
    "1) Crear una lista con los números del 1 al 100 que sean múltiplos de 4. Utilizar la función\n",
    "range"
   ]
  },
  {
   "cell_type": "code",
   "execution_count": 4,
   "id": "2e15036b",
   "metadata": {},
   "outputs": [
    {
     "name": "stdout",
     "output_type": "stream",
     "text": [
      "[0, 4, 8, 12, 16, 20, 24, 28, 32, 36, 40, 44, 48, 52, 56, 60, 64, 68, 72, 76, 80, 84, 88, 92, 96, 100]\n"
     ]
    }
   ],
   "source": [
    "multiplo_cuatro=list(range(0,101,4))\n",
    "print(multiplo_cuatro)"
   ]
  },
  {
   "cell_type": "markdown",
   "id": "bb87d92d",
   "metadata": {},
   "source": [
    "2) Crear una lista con cinco elementos (colocar los elementos que más te gusten) y mostrar el\n",
    "penúltimo. ¡Puedes hacerlo como se muestra en los videos o bien investigar cómo funciona el\n",
    "indexing con números negativos!"
   ]
  },
  {
   "cell_type": "code",
   "execution_count": 8,
   "id": "cca34af9",
   "metadata": {},
   "outputs": [
    {
     "name": "stdout",
     "output_type": "stream",
     "text": [
      "['Que', 'la', 'fuerza', 'te', 'acompañe']\n",
      "Penúltimo elemento: te\n"
     ]
    }
   ],
   "source": [
    "frase=\"Que la fuerza te acompañe\"\n",
    "lista_cinco=frase.split()\n",
    "print(lista_cinco)\n",
    "print(\"Penúltimo elemento:\",lista_cinco[-2])"
   ]
  },
  {
   "cell_type": "markdown",
   "id": "7428d55c",
   "metadata": {},
   "source": [
    "3) Crear una lista vacía, agregar tres palabras con append e imprimir la lista resultante por\n",
    "pantalla. \n",
    "Pista: para crear una lista vacía debes colocar los corchetes sin nada en su interior. \n",
    "\n",
    "Por ejemplo: lista_vacia = []"
   ]
  },
  {
   "cell_type": "code",
   "execution_count": 10,
   "id": "5858f877",
   "metadata": {},
   "outputs": [
    {
     "name": "stdout",
     "output_type": "stream",
     "text": [
      "['I', 'am', 'Groot']\n"
     ]
    }
   ],
   "source": [
    "vacia=[]\n",
    "vacia.append(\"I\")\n",
    "vacia.append(\"am\")\n",
    "vacia.append(\"Groot\")\n",
    "\n",
    "print(vacia)"
   ]
  },
  {
   "cell_type": "markdown",
   "id": "7e686f02",
   "metadata": {},
   "source": [
    "4) Reemplazar el segundo y último valor de la lista “animales” con las palabras “loro” y “oso”,\n",
    "respectivamente. Imprimir la lista resultante por pantalla. ¡Puedes hacerlo como se muestra\n",
    "en los videos o bien investigar cómo funciona el indexing con números negativos!\n",
    "\n",
    "animales = [\"perro\", \"gato\", \"conejo\", \"pez\"]"
   ]
  },
  {
   "cell_type": "code",
   "execution_count": 13,
   "id": "0c340a22",
   "metadata": {},
   "outputs": [
    {
     "name": "stdout",
     "output_type": "stream",
     "text": [
      "Lista actualizada: ['perro', 'loro', 'conejo', 'oso']\n"
     ]
    }
   ],
   "source": [
    "animales = [\"perro\", \"gato\", \"conejo\", \"pez\"]\n",
    "\n",
    "animales[1]=\"loro\"\n",
    "animales[-1]=\"oso\"\n",
    "\n",
    "print(\"Lista actualizada:\",animales)"
   ]
  },
  {
   "attachments": {
    "image.png": {
     "image/png": "[encoded data removed]"
    }
   },
   "cell_type": "markdown",
   "id": "51e95480",
   "metadata": {},
   "source": [
    "5) Analizar el siguiente programa y explicar con tus palabras qué es lo que realiza\n",
    "\n",
    "![image.png](attachment:image.png)"
   ]
  },
  {
   "cell_type": "code",
   "execution_count": null,
   "id": "0edb0136",
   "metadata": {},
   "outputs": [
    {
     "name": "stdout",
     "output_type": "stream",
     "text": [
      "[8, 15, 3, 7]\n",
      "[8, 15, 7]\n",
      "['a', 'b', 'c', 'd']\n",
      "['abeto', 'zorro', 'brazo', 'duelo']\n"
     ]
    }
   ],
   "source": [
    "#Crea una lista y la guarda en la variable números\n",
    "numeros=[8, 15, 3, 22, 7]\n",
    "#Usa remove y la función max para eliminar el máximo valor, numérico en este caso, de la lista\n",
    "numeros.remove(max(numeros))\n",
    "print(numeros)\n",
    "\n",
    "#Puedo usar min() para eliminar el mínimo\n",
    "numeros.remove(min(numeros))\n",
    "print(numeros)\n",
    "\n",
    "#Comprabar si funciona con string > Funciona!\n",
    "letras= [\"a\", \"b\", \"z\", \"c\", \"d\" ]\n",
    "letras.remove(max(letras))\n",
    "print(letras)\n",
    "\n",
    "#Comprabar que pasa con palabras > Sigue eliminando en orden alfabético\n",
    "letras= [\"abedul\", \"abeto\", \"zorro\", \"brazo\", \"duelo\" ]\n",
    "letras.remove(min(letras))\n",
    "print(letras)\n",
    "\n",
    "letras= [\"abedul\", \"abeto\", \"zorro\", \"brazo\", \"duelo\" ]\n",
    "letras.remove(min(letras))\n",
    "print(letras)\n"
   ]
  },
  {
   "cell_type": "markdown",
   "id": "d8c0f037",
   "metadata": {},
   "source": [
    "6) Crear una lista con números del 10 al 30 (incluído), haciendo saltos de 5 en 5 y mostrar por\n",
    "pantalla los dos primeros."
   ]
  },
  {
   "cell_type": "code",
   "execution_count": 20,
   "id": "54ba79f3",
   "metadata": {},
   "outputs": [
    {
     "name": "stdout",
     "output_type": "stream",
     "text": [
      "[10, 15, 20, 25, 30]\n",
      "[10, 15]\n"
     ]
    }
   ],
   "source": [
    "diez_al_treinta=list(range(10,31,5))\n",
    "print(diez_al_treinta)\n",
    "print(diez_al_treinta[0:2])"
   ]
  },
  {
   "cell_type": "markdown",
   "id": "7487c088",
   "metadata": {},
   "source": [
    "7) Reemplazar los dos valores centrales (índices 1 y 2) de la lista “autos” por dos nuevos valores\n",
    "cualesquiera.\n",
    "\n",
    "autos = [\"sedan\", \"polo\", \"suran\", \"gol\"]"
   ]
  },
  {
   "cell_type": "code",
   "execution_count": 38,
   "id": "d1516e99",
   "metadata": {},
   "outputs": [
    {
     "name": "stdout",
     "output_type": "stream",
     "text": [
      "['sedan', 'twingo', 'kangoo', 'gol']\n",
      "['sedan', 'polo', 'suran', 'clio', 'duster', 'laguna', 'auto3']\n",
      "['sedan', 'polo', 'suran', 'clio', 'duster', 'laguna', 'auto3', 'Koleos']\n",
      "['sedan', 'polo', 'suran', 'clio', 'duster', 'laguna', 'Koleos']\n"
     ]
    }
   ],
   "source": [
    "#Ejercicio 7\n",
    "autos = [\"sedan\", \"polo\", \"suran\", \"gol\"]\n",
    "autos[1:3]= \"twingo\", \"kangoo\"\n",
    "print(autos)\n",
    "\n",
    "#Probando\n",
    "\n",
    "#Probar si puedo reemplazar más de un rango\n",
    "autos = [\"sedan\", \"polo\", \"suran\", \"gol\", \"auto1\", \"auto2\", \"auto3\"]\n",
    "#Nop no puedo concatenar asi\n",
    "#autos[1:3,-1:-4]= \"twingo\", \"kangoo\", \"clio\", \"duster\", \"laguna\"\n",
    "\n",
    "#Funciona con index negativo pero no incluye al -1 asi que no lo toma como el ultimo\n",
    "autos[-4:-1]= \"clio\", \"duster\", \"laguna\"\n",
    "print(autos)\n",
    "\n",
    "autos.append(\"Koleos\")\n",
    "print(autos)\n",
    "\n",
    "autos.remove(\"auto3\")\n",
    "print(autos)"
   ]
  },
  {
   "cell_type": "markdown",
   "id": "3fd01766",
   "metadata": {},
   "source": [
    "8) Crear una lista vacía llamada \"dobles\" y agregar el doble de 5, 10 y 15 usando append\n",
    "directamente. Imprimir la lista resultante por pantalla."
   ]
  },
  {
   "cell_type": "code",
   "execution_count": 40,
   "id": "29a8fca5",
   "metadata": {},
   "outputs": [
    {
     "name": "stdout",
     "output_type": "stream",
     "text": [
      "[10, 20, 30]\n"
     ]
    }
   ],
   "source": [
    "dobles=[]\n",
    "\n",
    "for i in range(5,16,5):\n",
    "    dobles.append(i*2)\n",
    "\n",
    "print(dobles)\n"
   ]
  },
  {
   "cell_type": "markdown",
   "id": "54a032a6",
   "metadata": {},
   "source": [
    "9) Dada la lista “compras”, cuyos elementos representan los productos comprados por\n",
    "diferentes clientes:\n",
    "\n",
    "compras = [[\"pan\", \"leche\"], [\"arroz\", \"fideos\", \"salsa\"],[\"agua\"]]\n",
    "\n",
    "a) Agregar \"jugo\" a la lista del tercer cliente usando append.\n",
    "\n",
    "b) Reemplazar \"fideos\" por \"tallarines\" en la lista del segundo cliente.\n",
    "\n",
    "c) Eliminar \"pan\" de la lista del primer cliente.\n",
    "\n",
    "d) Imprimir la lista resultante por pantalla"
   ]
  },
  {
   "cell_type": "code",
   "execution_count": 49,
   "id": "2e64eb26",
   "metadata": {},
   "outputs": [
    {
     "name": "stdout",
     "output_type": "stream",
     "text": [
      "[['pan', 'leche'], ['arroz', 'fideos', 'salsa'], ['agua', 'jugo']]\n",
      "[['pan', 'leche'], ['arroz', 'tallarines', 'salsa'], ['agua', 'jugo']]\n",
      "[['leche'], ['arroz', 'tallarines', 'salsa'], ['agua', 'jugo']]\n",
      "Lista final: [['leche'], ['arroz', 'tallarines', 'salsa'], ['agua', 'jugo']]\n"
     ]
    }
   ],
   "source": [
    "compras = [[\"pan\", \"leche\"], [\"arroz\", \"fideos\", \"salsa\"],[\"agua\"]]\n",
    "\n",
    "#Agregar \"jugo\" a la lista del tercer cliente usando append.\n",
    "\n",
    "compras[2].append(\"jugo\")\n",
    "print(compras)\n",
    "\n",
    "#Reemplazar \"fideos\" por \"tallarines\" en la lista del segundo cliente.\n",
    "\n",
    "compras[1][1]=\"tallarines\"\n",
    "print(compras)\n",
    "\n",
    "#Eliminar \"pan\" de la lista del primer cliente.\n",
    "\n",
    "compras[0].remove(\"pan\")\n",
    "print(compras)\n",
    "\n",
    "#Imprimir la lista resultante por pantalla\n",
    "print(\"Lista final:\",compras)\n",
    "\n"
   ]
  },
  {
   "cell_type": "markdown",
   "id": "5206844d",
   "metadata": {},
   "source": [
    "10) Elaborar una lista anidada llamada “lista_anidada” que contenga los siguientes elementos:\n",
    "\n",
    "● Posición lista_anidada[0]: 15\n",
    "\n",
    "● Posición lista_anidada[1]: True\n",
    "\n",
    "● Posición lista_anidada[2][0]: 25.5\n",
    "\n",
    "● Posición lista_anidada[2][1]: 57.9\n",
    "\n",
    "● Posición lista_anidada[2][2]: 30.6\n",
    "\n",
    "● Posición lista_anidada[3]: False\n",
    "\n",
    "Imprimir la lista resultante por pantalla."
   ]
  },
  {
   "cell_type": "code",
   "execution_count": 50,
   "id": "ac48daa7",
   "metadata": {},
   "outputs": [
    {
     "name": "stdout",
     "output_type": "stream",
     "text": [
      "[15, True, [25.5, 57.9, 30, 6], [False]]\n"
     ]
    }
   ],
   "source": [
    "lista_anidada=[15,True,[25.5, 57.9, 30,6],[False]]\n",
    "print(lista_anidada)"
   ]
  }
 ],
 "metadata": {
  "kernelspec": {
   "display_name": "Python 3",
   "language": "python",
   "name": "python3"
  },
  "language_info": {
   "codemirror_mode": {
    "name": "ipython",
    "version": 3
   },
   "file_extension": ".py",
   "mimetype": "text/x-python",
   "name": "python",
   "nbconvert_exporter": "python",
   "pygments_lexer": "ipython3",
   "version": "3.13.3"
  }
 },
 "nbformat": 4,
 "nbformat_minor": 5
}
