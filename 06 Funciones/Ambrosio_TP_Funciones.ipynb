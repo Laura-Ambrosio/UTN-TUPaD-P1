{
 "cells": [
  {
   "cell_type": "markdown",
   "id": "7ee12b6e",
   "metadata": {},
   "source": [
    "## TP FUNCIONES ##\n",
    "\n",
    "Antes de empezar, analiza cada problema y piensa cómo dividirlo en pasos más pequeños utilizando funciones.\n",
    "\n",
    "Al terminar, prueba cada función con diferentes entradas para verificar que funciona correctamente.\n",
    "\n",
    "-------------------------------------------------------------------------------------------------------------"
   ]
  },
  {
   "cell_type": "markdown",
   "id": "4afe017a",
   "metadata": {},
   "source": [
    "1. Crear una función llamada imprimir_hola_mundo que imprima por\n",
    "pantalla el mensaje: “Hola Mundo!”. Llamar a esta función desde el\n",
    "programa principal."
   ]
  },
  {
   "cell_type": "code",
   "execution_count": 38,
   "id": "65258aae",
   "metadata": {},
   "outputs": [
    {
     "name": "stdout",
     "output_type": "stream",
     "text": [
      "Hola como estas\n"
     ]
    }
   ],
   "source": [
    "#Definición de Funciones\n",
    "\n",
    "def imprimir_hola_mundo(mensaje):\n",
    "    print(mensaje)\n",
    "    pass\n",
    "\n",
    "#---------------------\n",
    "#Programa principal\n",
    "#---------------------\n",
    "\n",
    "imprimir_hola_mundo(\"Hola como estas\")"
   ]
  },
  {
   "cell_type": "markdown",
   "id": "c3830763",
   "metadata": {},
   "source": [
    "2. Crear una función llamada saludar_usuario(nombre) que reciba\n",
    "como parámetro un nombre y devuelva un saludo personalizado.\n",
    "Por ejemplo, si se llama con saludar_usuario(\"Marcos\"), deberá devolver: “Hola Marcos!”. Llamar a esta función desde el programa\n",
    "principal solicitando el nombre al usuario."
   ]
  },
  {
   "cell_type": "code",
   "execution_count": 39,
   "id": "61b701c3",
   "metadata": {},
   "outputs": [
    {
     "name": "stdout",
     "output_type": "stream",
     "text": [
      "Hola Marcos\n"
     ]
    }
   ],
   "source": [
    "#Definición de Funciones\n",
    "\n",
    "def saludar_usuario(nombre):\n",
    "    print(f\"Hola {nombre}\")\n",
    "\n",
    "\n",
    "#---------------------\n",
    "#Programa principal\n",
    "#---------------------\n",
    "\n",
    "saludar_usuario (\"Marcos\")"
   ]
  },
  {
   "cell_type": "markdown",
   "id": "7987d0de",
   "metadata": {},
   "source": [
    "3. Crear una función llamada informacion_personal(nombre, apellido,\n",
    "edad, residencia) que reciba cuatro parámetros e imprima: “Soy\n",
    "[nombre] [apellido], tengo [edad] años y vivo en [residencia]”. Pedir los datos al usuario y llamar a esta función con los valores ingresados."
   ]
  },
  {
   "cell_type": "code",
   "execution_count": 40,
   "id": "334ff795",
   "metadata": {},
   "outputs": [
    {
     "name": "stdout",
     "output_type": "stream",
     "text": [
      "Soy  , tengo  años y vivo en \n"
     ]
    }
   ],
   "source": [
    "#Definición de Funciones\n",
    "def informacion_personal(nombre, apellido,edad, residencia):\n",
    "    print(f\"Soy {nombre} {apellido}, tengo {edad} años y vivo en {residencia}\")\n",
    "\n",
    "\n",
    "#---------------------\n",
    "#Programa principal\n",
    "#---------------------\n",
    "#Pedir al usuario los parámetros que se le pasaran a la función\n",
    "nombre=input(\"Ingrese su nombre: \")\n",
    "apellido=input(\"Ingrese su apellido: \")\n",
    "edad=input(\"Ingrese su edad: \")\n",
    "residencia=(input(\"Ingrese el nombre de la localidad en donde reside: \"))\n",
    "\n",
    "informacion_personal(nombre, apellido,edad, residencia)\n"
   ]
  },
  {
   "cell_type": "markdown",
   "id": "2044bc0d",
   "metadata": {},
   "source": [
    "4. Crear dos funciones: calcular_area_circulo (radio) que reciba el radio como parámetro y devuelva el área del círculo. calcular_perimetro_circulo(radio) que reciba el radio como parámetro y devuelva el perímetro del círculo. Solicitar el radio al usuario y llamar ambas funciones para mostrar los resultados.\n",
    "\n",
    "- A = π r²\n",
    "- P = 2πr"
   ]
  },
  {
   "cell_type": "code",
   "execution_count": 41,
   "id": "1e3c3bc6",
   "metadata": {},
   "outputs": [
    {
     "ename": "KeyboardInterrupt",
     "evalue": "Interrupted by user",
     "output_type": "error",
     "traceback": [
      "\u001b[31m---------------------------------------------------------------------------\u001b[39m",
      "\u001b[31mKeyboardInterrupt\u001b[39m                         Traceback (most recent call last)",
      "\u001b[36mCell\u001b[39m\u001b[36m \u001b[39m\u001b[32mIn[41]\u001b[39m\u001b[32m, line 15\u001b[39m\n\u001b[32m      9\u001b[39m     \u001b[38;5;28;01mreturn\u001b[39;00m \u001b[32m2\u001b[39m*pi*radio\n\u001b[32m     11\u001b[39m \u001b[38;5;66;03m#---------------------\u001b[39;00m\n\u001b[32m     12\u001b[39m \u001b[38;5;66;03m#Programa principal\u001b[39;00m\n\u001b[32m     13\u001b[39m \u001b[38;5;66;03m#---------------------\u001b[39;00m\n\u001b[32m     14\u001b[39m \u001b[38;5;66;03m#Pedir al usuario que ingrese un valor de radio\u001b[39;00m\n\u001b[32m---> \u001b[39m\u001b[32m15\u001b[39m radio=\u001b[38;5;28mint\u001b[39m(\u001b[38;5;28;43minput\u001b[39;49m\u001b[43m(\u001b[49m\u001b[33;43m\"\u001b[39;49m\u001b[33;43mIngrese el radio del círculo: \u001b[39;49m\u001b[33;43m\"\u001b[39;49m\u001b[43m)\u001b[49m)\n\u001b[32m     17\u001b[39m \u001b[38;5;66;03m#Imprimer el área y el perímetro del círculo calculado con el radio que ingresó el usuario\u001b[39;00m\n\u001b[32m     18\u001b[39m \u001b[38;5;28mprint\u001b[39m(\u001b[33mf\u001b[39m\u001b[33m\"\u001b[39m\u001b[33mEl área del círculo es: \u001b[39m\u001b[38;5;132;01m{\u001b[39;00mcalcular_area_circulo(radio)\u001b[38;5;132;01m}\u001b[39;00m\u001b[33m\"\u001b[39m)\n",
      "\u001b[36mFile \u001b[39m\u001b[32m~\\AppData\\Local\\Packages\\PythonSoftwareFoundation.Python.3.13_qbz5n2kfra8p0\\LocalCache\\local-packages\\Python313\\site-packages\\ipykernel\\kernelbase.py:1282\u001b[39m, in \u001b[36mKernel.raw_input\u001b[39m\u001b[34m(self, prompt)\u001b[39m\n\u001b[32m   1280\u001b[39m     msg = \u001b[33m\"\u001b[39m\u001b[33mraw_input was called, but this frontend does not support input requests.\u001b[39m\u001b[33m\"\u001b[39m\n\u001b[32m   1281\u001b[39m     \u001b[38;5;28;01mraise\u001b[39;00m StdinNotImplementedError(msg)\n\u001b[32m-> \u001b[39m\u001b[32m1282\u001b[39m \u001b[38;5;28;01mreturn\u001b[39;00m \u001b[38;5;28;43mself\u001b[39;49m\u001b[43m.\u001b[49m\u001b[43m_input_request\u001b[49m\u001b[43m(\u001b[49m\n\u001b[32m   1283\u001b[39m \u001b[43m    \u001b[49m\u001b[38;5;28;43mstr\u001b[39;49m\u001b[43m(\u001b[49m\u001b[43mprompt\u001b[49m\u001b[43m)\u001b[49m\u001b[43m,\u001b[49m\n\u001b[32m   1284\u001b[39m \u001b[43m    \u001b[49m\u001b[38;5;28;43mself\u001b[39;49m\u001b[43m.\u001b[49m\u001b[43m_parent_ident\u001b[49m\u001b[43m[\u001b[49m\u001b[33;43m\"\u001b[39;49m\u001b[33;43mshell\u001b[39;49m\u001b[33;43m\"\u001b[39;49m\u001b[43m]\u001b[49m\u001b[43m,\u001b[49m\n\u001b[32m   1285\u001b[39m \u001b[43m    \u001b[49m\u001b[38;5;28;43mself\u001b[39;49m\u001b[43m.\u001b[49m\u001b[43mget_parent\u001b[49m\u001b[43m(\u001b[49m\u001b[33;43m\"\u001b[39;49m\u001b[33;43mshell\u001b[39;49m\u001b[33;43m\"\u001b[39;49m\u001b[43m)\u001b[49m\u001b[43m,\u001b[49m\n\u001b[32m   1286\u001b[39m \u001b[43m    \u001b[49m\u001b[43mpassword\u001b[49m\u001b[43m=\u001b[49m\u001b[38;5;28;43;01mFalse\u001b[39;49;00m\u001b[43m,\u001b[49m\n\u001b[32m   1287\u001b[39m \u001b[43m\u001b[49m\u001b[43m)\u001b[49m\n",
      "\u001b[36mFile \u001b[39m\u001b[32m~\\AppData\\Local\\Packages\\PythonSoftwareFoundation.Python.3.13_qbz5n2kfra8p0\\LocalCache\\local-packages\\Python313\\site-packages\\ipykernel\\kernelbase.py:1325\u001b[39m, in \u001b[36mKernel._input_request\u001b[39m\u001b[34m(self, prompt, ident, parent, password)\u001b[39m\n\u001b[32m   1322\u001b[39m \u001b[38;5;28;01mexcept\u001b[39;00m \u001b[38;5;167;01mKeyboardInterrupt\u001b[39;00m:\n\u001b[32m   1323\u001b[39m     \u001b[38;5;66;03m# re-raise KeyboardInterrupt, to truncate traceback\u001b[39;00m\n\u001b[32m   1324\u001b[39m     msg = \u001b[33m\"\u001b[39m\u001b[33mInterrupted by user\u001b[39m\u001b[33m\"\u001b[39m\n\u001b[32m-> \u001b[39m\u001b[32m1325\u001b[39m     \u001b[38;5;28;01mraise\u001b[39;00m \u001b[38;5;167;01mKeyboardInterrupt\u001b[39;00m(msg) \u001b[38;5;28;01mfrom\u001b[39;00m\u001b[38;5;250m \u001b[39m\u001b[38;5;28;01mNone\u001b[39;00m\n\u001b[32m   1326\u001b[39m \u001b[38;5;28;01mexcept\u001b[39;00m \u001b[38;5;167;01mException\u001b[39;00m:\n\u001b[32m   1327\u001b[39m     \u001b[38;5;28mself\u001b[39m.log.warning(\u001b[33m\"\u001b[39m\u001b[33mInvalid Message:\u001b[39m\u001b[33m\"\u001b[39m, exc_info=\u001b[38;5;28;01mTrue\u001b[39;00m)\n",
      "\u001b[31mKeyboardInterrupt\u001b[39m: Interrupted by user"
     ]
    }
   ],
   "source": [
    "from math import pi\n",
    "\n",
    "#Definición de Funciones\n",
    "\n",
    "def calcular_area_circulo(radio):\n",
    "    return pi*radio**2\n",
    "\n",
    "def calcular_perimetro_circulo(radio):\n",
    "    return 2*pi*radio\n",
    "\n",
    "#---------------------\n",
    "#Programa principal\n",
    "#---------------------\n",
    "#Pedir al usuario que ingrese un valor de radio\n",
    "radio=int(input(\"Ingrese el radio del círculo: \"))\n",
    "\n",
    "#Imprimer el área y el perímetro del círculo calculado con el radio que ingresó el usuario\n",
    "print(f\"El área del círculo es: {calcular_area_circulo(radio)}\")\n",
    "print(f\"El perímetro del círculo es: {calcular_perimetro_circulo(radio)}\")\n",
    "\n",
    "print(pi)\n",
    "\n"
   ]
  },
  {
   "cell_type": "markdown",
   "id": "bf348277",
   "metadata": {},
   "source": [
    "5. Crear una función llamada segundos_a_horas(segundos) que reciba\n",
    "una cantidad de segundos como parámetro y devuelva la cantidad\n",
    "de horas correspondientes. Solicitar al usuario los segundos y mostrar el resultado usando esta función."
   ]
  },
  {
   "cell_type": "code",
   "execution_count": null,
   "id": "5a97f47c",
   "metadata": {},
   "outputs": [
    {
     "name": "stdout",
     "output_type": "stream",
     "text": [
      "3600 equivalen a 1.0 horas\n"
     ]
    }
   ],
   "source": [
    "#Definición de Funciones\n",
    "\n",
    "def segundos_a_horas(segundos):\n",
    "    return segundos/3600\n",
    "\n",
    "#---------------------\n",
    "#Programa principal\n",
    "#---------------------\n",
    "#Solicitar al usuario los segundos\n",
    "\n",
    "segundos=int(input(\"Ingrese un valor de segundos: \"))\n",
    "\n",
    "print(f\"{segundos} equivalen a {segundos_a_horas(segundos)} horas\")\n",
    "\n"
   ]
  },
  {
   "cell_type": "markdown",
   "id": "63d0efa5",
   "metadata": {},
   "source": [
    "6. Crear una función llamada tabla_multiplicar(numero) que reciba un\n",
    "número como parámetro y imprima la tabla de multiplicar de ese\n",
    "número del 1 al 10. Pedir al usuario el número y llamar a la función."
   ]
  },
  {
   "cell_type": "code",
   "execution_count": null,
   "id": "82c8c16a",
   "metadata": {},
   "outputs": [],
   "source": [
    "#Definición de Funciones\n",
    "\n",
    "def tabla_multiplicar(numero):\n",
    "    for i in range(1,11):\n",
    "        print(f\"{numero}x{i}={numero*i}\")\n",
    "\n",
    "#---------------------\n",
    "#Programa principal\n",
    "#---------------------\n",
    "numero=int(input(\"Para generar una tabla de multiplicar, ingrese el multiplicador: \"))\n",
    "\n",
    "tabla_multiplicar(numero)\n"
   ]
  },
  {
   "cell_type": "markdown",
   "id": "daabfa1f",
   "metadata": {},
   "source": [
    "7. Crear una función llamada operaciones_basicas(a, b) que reciba\n",
    "dos números como parámetros y devuelva una tupla con el resultado de sumarlos, restarlos, multiplicarlos y dividirlos. Mostrar los resultados de forma clara."
   ]
  },
  {
   "cell_type": "code",
   "execution_count": null,
   "id": "b342703b",
   "metadata": {},
   "outputs": [
    {
     "name": "stdout",
     "output_type": "stream",
     "text": [
      "Resultados de sumar, restar, multiplicar y dividir, en ese order:\n",
      " (12, 8, 20, 5.0)\n"
     ]
    }
   ],
   "source": [
    "#Definición de Funciones\n",
    "def operaciones_basicas(a, b):\n",
    "    suma=a+b\n",
    "    resta=a-b\n",
    "    multiplicacion=a*b\n",
    "    division=a/b\n",
    "    resultados=(suma, resta, multiplicacion, division)\n",
    "\n",
    "    return resultados\n",
    "\n",
    "#---------------------\n",
    "#Programa principal\n",
    "#---------------------\n",
    "\n",
    "print(\"Resultados de sumar, restar, multiplicar y dividir, en ese order:\\n\",operaciones_basicas(10, 2))"
   ]
  },
  {
   "cell_type": "markdown",
   "id": "78355cfe",
   "metadata": {},
   "source": [
    "8. Crear una función llamada calcular_imc(peso, altura) que reciba el\n",
    "peso en kilogramos y la altura en metros, y devuelva el índice de\n",
    "masa corporal (IMC). Solicitar al usuario los datos y llamar a la función para mostrar el resultado con dos decimales."
   ]
  },
  {
   "cell_type": "code",
   "execution_count": null,
   "id": "6dbb6a90",
   "metadata": {},
   "outputs": [
    {
     "name": "stdout",
     "output_type": "stream",
     "text": [
      "El IMC es: 20.576131687242793\n"
     ]
    }
   ],
   "source": [
    "#Definición de Funciones\n",
    "\n",
    "def calcular_imc(peso, altura):\n",
    "    return peso/(altura**2)\n",
    "\n",
    "#---------------------\n",
    "#Programa principal\n",
    "#---------------------\n",
    "peso=int(input(\"Ingrese el peso en kilogramos:\"))\n",
    "altura=float(input(\"Ingrese la altura en metros:\"))\n",
    "\n",
    "print(\"El IMC es:\",calcular_imc(peso, altura))\n"
   ]
  },
  {
   "cell_type": "markdown",
   "id": "181ae67c",
   "metadata": {},
   "source": [
    "9. Crear una función llamada celsius_a_fahrenheit(celsius) que reciba\n",
    "una temperatura en grados Celsius y devuelva su equivalente en\n",
    "Fahrenheit. Pedir al usuario la temperatura en Celsius y mostrar el\n",
    "resultado usando la función."
   ]
  },
  {
   "cell_type": "code",
   "execution_count": null,
   "id": "a34fecb2",
   "metadata": {},
   "outputs": [
    {
     "name": "stdout",
     "output_type": "stream",
     "text": [
      "1°C (Celsius) equivalen a 33.8°F (Farenheit)\n"
     ]
    }
   ],
   "source": [
    "#Definición de Funciones\n",
    "\n",
    "def celsius_a_fahrenheit(celsius):\n",
    "    return (celsius*(9/5))+32\n",
    "\n",
    "#---------------------\n",
    "#Programa principal\n",
    "#---------------------\n",
    "celsius=int(input(\"Ingrese una temperatura en grados celsius: \"))\n",
    "\n",
    "print(f\"{celsius}°C (Celsius) equivalen a {celsius_a_fahrenheit(celsius)}°F (Farenheit)\")\n",
    "\n"
   ]
  },
  {
   "cell_type": "markdown",
   "id": "b5e5b9d1",
   "metadata": {},
   "source": [
    "10. Crear una función llamada calcular_promedio(a, b, c) que reciba\n",
    "tres números como parámetros y devuelva el promedio de ellos.\n",
    "Solicitar los números al usuario y mostrar el resultado usando esta\n",
    "función."
   ]
  },
  {
   "cell_type": "code",
   "execution_count": null,
   "id": "6dba0cef",
   "metadata": {},
   "outputs": [
    {
     "name": "stdout",
     "output_type": "stream",
     "text": [
      "El promedio de los números ingresados es 1503.3333333333333\n"
     ]
    }
   ],
   "source": [
    "#Definición de Funciones\n",
    "\n",
    "def calcular_promedio(a, b, c):\n",
    "    return (a+b+c)/3\n",
    "\n",
    "#---------------------\n",
    "#Programa principal\n",
    "#---------------------\n",
    "a=int(input(\"Ingrese el primer número: \"))\n",
    "b=int(input(\"Ingrese el segundo número: \"))\n",
    "c=int(input(\"Ingrese el tercer número: \"))\n",
    "\n",
    "print(f\"El promedio de los números ingresados es {calcular_promedio(a, b, c)}\")\n",
    "\n",
    "\n"
   ]
  }
 ],
 "metadata": {
  "kernelspec": {
   "display_name": "Python 3",
   "language": "python",
   "name": "python3"
  },
  "language_info": {
   "codemirror_mode": {
    "name": "ipython",
    "version": 3
   },
   "file_extension": ".py",
   "mimetype": "text/x-python",
   "name": "python",
   "nbconvert_exporter": "python",
   "pygments_lexer": "ipython3",
   "version": "3.13.3"
  }
 },
 "nbformat": 4,
 "nbformat_minor": 5
}
